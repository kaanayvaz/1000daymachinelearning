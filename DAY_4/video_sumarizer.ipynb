{
 "cells": [
  {
   "cell_type": "code",
   "execution_count": 1,
   "metadata": {},
   "outputs": [],
   "source": [
    "!pip install -q transformers"
   ]
  },
  {
   "cell_type": "code",
   "execution_count": 2,
   "metadata": {},
   "outputs": [],
   "source": [
    "!pip install -q youtube_transcript_api"
   ]
  },
  {
   "cell_type": "code",
   "execution_count": 3,
   "metadata": {},
   "outputs": [
    {
     "name": "stderr",
     "output_type": "stream",
     "text": [
      "/Users/omerkaanayvaz/opt/anaconda3/envs/sss/lib/python3.9/site-packages/tqdm/auto.py:21: TqdmWarning: IProgress not found. Please update jupyter and ipywidgets. See https://ipywidgets.readthedocs.io/en/stable/user_install.html\n",
      "  from .autonotebook import tqdm as notebook_tqdm\n"
     ]
    },
    {
     "ename": "",
     "evalue": "",
     "output_type": "error",
     "traceback": [
      "\u001b[1;31mCanceled future for execute_request message before replies were done"
     ]
    },
    {
     "ename": "",
     "evalue": "",
     "output_type": "error",
     "traceback": [
      "\u001b[1;31mThe Kernel crashed while executing code in the the current cell or a previous cell. Please review the code in the cell(s) to identify a possible cause of the failure. Click <a href='https://aka.ms/vscodeJupyterKernelCrash'>here</a> for more info. View Jupyter <a href='command:jupyter.viewOutput'>log</a> for further details."
     ]
    }
   ],
   "source": [
    "from transformers import pipeline\n",
    "from youtube_transcript_api import YouTubeTranscriptApi"
   ]
  },
  {
   "cell_type": "code",
   "execution_count": null,
   "metadata": {},
   "outputs": [],
   "source": [
    "video_link = input(\"Give me the video link\")"
   ]
  },
  {
   "cell_type": "code",
   "execution_count": null,
   "metadata": {},
   "outputs": [],
   "source": [
    "video_id = video_link.split(\"=\")[1]"
   ]
  },
  {
   "cell_type": "code",
   "execution_count": null,
   "metadata": {},
   "outputs": [],
   "source": [
    "transcript = YouTubeTranscriptApi.get_transcript(video_id)"
   ]
  },
  {
   "cell_type": "code",
   "execution_count": null,
   "metadata": {},
   "outputs": [
    {
     "name": "stdout",
     "output_type": "stream",
     "text": [
      " AI is my city  its Siraj and what is the best laptop for machine learning Its  Popular Question I get asked and in this video I am gonna talk about The best laptop Desktop and DIY systems for Machine Learning as well the best cloud options When it comes to choosing the right machine for machine learning you are usually choosing between the two factors Portability and Processing power The higher the processing power the heavier the laptop is thus the less portability it has and vice versa Also, the higher the power the lower the battery life and portability again takes a hit (*pow) Their are a few important component that you should think about when buying a laptop for machine learning Specifically, ^(*as above) When it comes to RAM the minimum amount you need is 8 Gigabyte although, 16 Gigs(*Gigabyte) is what I recommend for faster processing for heavy ML(*Machine Learning) algorithms like (*Sorcery) RAM is important since it significantly speeds up computation time for training AI algorithms but no feature is more important that what GPU you are using Deep learning the most popular sub-field of Machine Learning involves neural networks, it's also the most computationally expensive it requires calculating massive amount of matrix operations to train and GPUs enable highly parallelized matrix opeations which speed up the process With no GPU training a model may takes months whereas with the right one it may take an hour (*wow) it allows you to quickly iterate over different versions of your neural network and speeds up the entire research and development pipeline by orders of magnitude. Making the right choice here is critical NVIDIA brought desktop class graphics to laptops with the GeForce 10 series picking from one of these that are in your price range are the best GPUs get for a laptop Most deeplearning libraries like tensor flow and pytorch use the CUDA processor which compiles only on NVIDIA cards AMD you looks like you missed the boat buddy.         (*AMD - :'/ ) If you want to use a machine powered by AMD of Intel HD GPU, you should be prepared to write some low level code in OpenCL For processor a min requirement will be an Intel i5 also the i7- 7th generation would be highly recommended For storage you should have 1 terabyte of min hard disk space since data-sets seems to be getting bigger day by day If you are choosing to go with a machine with SSD make sure it has 256 gigabytes of SSD storage available else you might have to purchase an external hardrive Lastly for an operating system you  want to go with linux Although both mac and windows can run linux as either a virtual machine or on startup using a software like bootcamp or parallels So when it comes to the best laptops to get at the highest end a startup called lambda labs wins here with their Tensorbook laptop They are using an NVIDIA GTX 1070 GPU and Intel i7 Processor\n"
     ]
    }
   ],
   "source": [
    "result = \"\"\n",
    "for i in transcript:\n",
    "    result += ' ' + i['text']\n",
    "\n",
    "print(result)"
   ]
  },
  {
   "cell_type": "code",
   "execution_count": null,
   "metadata": {},
   "outputs": [
    {
     "ename": "NameError",
     "evalue": "name 'pipeline' is not defined",
     "output_type": "error",
     "traceback": [
      "\u001b[0;31m---------------------------------------------------------------------------\u001b[0m",
      "\u001b[0;31mNameError\u001b[0m                                 Traceback (most recent call last)",
      "Cell \u001b[0;32mIn[2], line 1\u001b[0m\n\u001b[0;32m----> 1\u001b[0m summarizer \u001b[39m=\u001b[39m pipeline(\u001b[39m'\u001b[39m\u001b[39msummarization\u001b[39m\u001b[39m'\u001b[39m)\n",
      "\u001b[0;31mNameError\u001b[0m: name 'pipeline' is not defined"
     ]
    }
   ],
   "source": [
    "summarizer = pipeline('summarization')\n",
    "\n",
    "#it does not work on my pc ı will work on google colab"
   ]
  }
 ],
 "metadata": {
  "kernelspec": {
   "display_name": "sss",
   "language": "python",
   "name": "python3"
  },
  "language_info": {
   "codemirror_mode": {
    "name": "ipython",
    "version": 3
   },
   "file_extension": ".py",
   "mimetype": "text/x-python",
   "name": "python",
   "nbconvert_exporter": "python",
   "pygments_lexer": "ipython3",
   "version": "3.9.16"
  },
  "orig_nbformat": 4
 },
 "nbformat": 4,
 "nbformat_minor": 2
}
